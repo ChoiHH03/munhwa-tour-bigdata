{
 "cells": [
  {
   "cell_type": "code",
   "execution_count": null,
   "metadata": {},
   "outputs": [],
   "source": [
    "## Colab을 사용한다면, 이 셀을 실행해주세요\n",
    "from google.colab import auth\n",
    "auth.authenticate_user()\n",
    "from google.colab import drive\n",
    "drive.mount('/content/gdrive')"
   ]
  },
  {
   "cell_type": "code",
   "execution_count": null,
   "metadata": {},
   "outputs": [],
   "source": [
    "# 형태소 분석과 텍스트 전처리를 위해 필요한 라이브러리입니다\n",
    "# 설치되어 있지 않으신 분은 설치해주세요(colab 기본 라이브러리가 아니므로 colab 연결시마다 실행해야합니다)\n",
    "!pip install -q konlpy \n",
    "!pip install -q demoji"
   ]
  },
  {
   "cell_type": "code",
   "execution_count": null,
   "metadata": {},
   "outputs": [],
   "source": [
    "import demoji\n",
    "demoji.download_codes()\n",
    "\n",
    "import pickle\n",
    "import os\n",
    "import glob\n",
    "from IPython.display import clear_output\n",
    "\n",
    "import numpy as np\n",
    "import pandas as pd\n",
    "import re\n",
    "from collections import defaultdict\n",
    "from tqdm import tqdm_notebook\n",
    "import datetime\n",
    "\n",
    "import matplotlib.pyplot as plt\n",
    "\n",
    "from math import ceil\n",
    "\n",
    "#DATA_PATH : 기본 경로입니다. ipynb 파일이 저장된 폴더 경로를 지정해주세요\n",
    "DATA_PATH = '/content/gdrive/My Drive/Colab Notebooks/munhwa_bigdata'\n",
    "#PKL_PATH : pkl 파일이 저장된 경로를 지정해주세요\n",
    "PKL_PATH = os.path.join(DATA_PATH, 'pkl')\n",
    "#POS_PATH : 형태소 분석 결과를 저장할 폴더 경로를 지정해주세요\n",
    "SAVE_PATH = os.path.join(DATA_PATH, 'pos')"
   ]
  },
  {
   "cell_type": "code",
   "execution_count": null,
   "metadata": {},
   "outputs": [],
   "source": [
    "def remove_emoji(text):\n",
    "    return_text = text.lower()\n",
    "    emoji_pattern = re.compile(\"[\"\n",
    "        u\"\\U0001F600-\\U0001F64F\"  # emoticons\n",
    "        u\"\\U0001F300-\\U0001F5FF\"  # symbols & pictographs\n",
    "        u\"\\U0001F680-\\U0001F6FF\"  # transport & map symbols\n",
    "        u\"\\U0001F1E0-\\U0001F1FF\"  # flags (iOS)\n",
    "                        \"]+\", flags = re.UNICODE) \n",
    "    return_text = emoji_pattern.sub(r' ', return_text)\n",
    "  \n",
    "    return return_text\n",
    "\n",
    "def remove_date(text):\n",
    "    date_re = re.compile('\\d{4}\\.\\s\\d{1,2}\\.\\s\\d{1,2}\\.\\s\\d{1,2}\\:\\d{1,2}')\n",
    "    return_text = date_re.sub(r' ', text)\n",
    "    return return_text\n",
    "\n",
    "def remove_char(text):\n",
    "    char = re.compile('[!@#$%^&*()\\-_+=`~[\\]/\\\\,?\\\\n\\\\t\\;<>|]')\n",
    "    return_text = char.sub(r' ',text)\n",
    "    dots = re.compile('\\.+')\n",
    "    return_text = dots.sub(r'.', return_text)\n",
    "    semidots = re.compile('\\,+')\n",
    "    return_text = semidots.sub(r',', return_text)\n",
    "    return return_text\n",
    "\n",
    "def remove_doublespace(text):\n",
    "    if len(text) == 0 : return ''\n",
    "    if text[0] == ' ':\n",
    "        text = text[1:]\n",
    "    if len(text) == 0 : return ''\n",
    "    if text[-1] == ' ':\n",
    "        text = text[:-1]\n",
    "    return_text = text.replace('  ',' ')\n",
    "    return return_text"
   ]
  },
  {
   "cell_type": "code",
   "execution_count": null,
   "metadata": {},
   "outputs": [],
   "source": [
    "##preprocessing##\n",
    "def get_removedtext(text):\n",
    "    removed_text = demoji.replace(text, ' ')\n",
    "    removed_text = remove_date(removed_text)\n",
    "    removed_text = remove_char(removed_text)\n",
    "    removed_text = remove_doublespace(removed_text)\n",
    "    return removed_text"
   ]
  },
  {
   "cell_type": "code",
   "execution_count": null,
   "metadata": {},
   "outputs": [],
   "source": [
    "def select_pos(tagged_sent, selected_pos):\n",
    "    return [word for word, pos in tagged_sent if pos in selected_pos]"
   ]
  },
  {
   "cell_type": "code",
   "execution_count": null,
   "metadata": {},
   "outputs": [],
   "source": [
    "def get_rawdocument(document, USE_POS):\n",
    "    return_docu = ''\n",
    "    for i in tqdm_notebook(range(len(document))):\n",
    "        for t in list(map(get_removedtext, document[i])):\n",
    "        if re.match('\\s+', t):\n",
    "            if re.match('\\s+', t).span()  == (0, len(t)) :\n",
    "                continue\n",
    "        try:\n",
    "            result = kkma.pos(t)\n",
    "            return_docu += ' '.join(select_pos(result, USE_POS)) + ' '\n",
    "        except :\n",
    "            pass\n",
    "    return return_docu"
   ]
  },
  {
   "cell_type": "code",
   "execution_count": null,
   "metadata": {},
   "outputs": [],
   "source": [
    "## 꼬꼬마 형태소 분석기를 사용합니다\n",
    "from konlpy.tag import Kkma\n",
    "\n",
    "kkma = Kkma()"
   ]
  },
  {
   "cell_type": "code",
   "execution_count": null,
   "metadata": {},
   "outputs": [],
   "source": [
    "USE_POS = ['NNG', 'NNP', 'VV','VA','XR'] #사용할 품사는 NNG(일반명사), NNP(고유명사), VV(동사), VA(형용사), XR(어근) 입니다\n",
    "\n",
    "PKL_FILE = glob.glob(os.path.join(PKL_PATH, '*.pkl'))\n",
    "#아래 세가지 중에 자신이 맡은 부분의 주석을 해제해주세요\n",
    "with open(os.path.join(PKL_PATH, \"PKL_LIST1.pkl\"), \"rb\") as f:\n",
    "#with open(os.path.join(PKL_PATH, \"PKL_LIST2.pkl\"), \"rb\") as f:\n",
    "#with open(os.path.join(PKL_PATH, \"PKL_LIST3.pkl\"), \"rb\") as f:\n",
    "    YOUR_PKL = pickle.load(f)\n",
    "\n",
    "for i, pkl in enumerate(YOUR_PKL):\n",
    "    print(\"{}.pkl [ {} / {} ]진행 중 ....\".format(pkl, i, len(YOUR_PKL)))\n",
    "    city = pkl\n",
    "    done = list(map(lambda x : os.path.splitext(x)[0], list(map(lambda x : os.path.basename(x) , glob.glob(os.path.join(SAVE_PATH, '*.pkl'))))))\n",
    "    if city in done :\n",
    "        clear_output(wait = True)\n",
    "        continue\n",
    "    with open(os.path.join(PKL_PATH, \"{}.pkl\".format(pkl)), 'rb') as f:\n",
    "        bow = pickle.load(f)\n",
    "    f.close()   \n",
    "\n",
    "    result = {city:get_rawdocument(bow, USE_POS)}\n",
    "    with open(os.path.join(SAVE_PATH, '{}.pkl'.format(city)), 'wb') as f:\n",
    "        pickle.dump(result, f)\n",
    "    f.close()\n",
    "    clear_output(wait = True)"
   ]
  }
 ],
 "metadata": {
  "kernelspec": {
   "display_name": "Python 3",
   "language": "python",
   "name": "python3"
  },
  "language_info": {
   "codemirror_mode": {
    "name": "ipython",
    "version": 3
   },
   "file_extension": ".py",
   "mimetype": "text/x-python",
   "name": "python",
   "nbconvert_exporter": "python",
   "pygments_lexer": "ipython3",
   "version": "3.8.5"
  }
 },
 "nbformat": 4,
 "nbformat_minor": 4
}
